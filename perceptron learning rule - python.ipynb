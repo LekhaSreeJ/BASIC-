{
 "cells": [
  {
   "cell_type": "markdown",
   "id": "82fa2393",
   "metadata": {},
   "source": [
    "# PERCEPTRON LEARNING RULE"
   ]
  },
  {
   "cell_type": "code",
   "execution_count": 1,
   "id": "sustainable-munich",
   "metadata": {},
   "outputs": [],
   "source": [
    "# importing the libraries \n",
    "\n",
    "import numpy as np\n",
    "import pandas as pd "
   ]
  },
  {
   "cell_type": "code",
   "execution_count": 2,
   "id": "wired-iraqi",
   "metadata": {},
   "outputs": [],
   "source": [
    "# defining the input data (binary values)\n",
    "\n",
    "data = {'col1':[1,1],\n",
    "        'col2':[1,0],\n",
    "       'col3':[0,1],\n",
    "       'col4':[-1,-1],\n",
    "       'col5':[-1,0],\n",
    "       'col6': [-1,1]}"
   ]
  },
  {
   "cell_type": "code",
   "execution_count": 3,
   "id": "induced-words",
   "metadata": {},
   "outputs": [],
   "source": [
    "df = pd.DataFrame(data)"
   ]
  },
  {
   "cell_type": "code",
   "execution_count": 4,
   "id": "dirty-highland",
   "metadata": {},
   "outputs": [
    {
     "data": {
      "text/html": [
       "<div>\n",
       "<style scoped>\n",
       "    .dataframe tbody tr th:only-of-type {\n",
       "        vertical-align: middle;\n",
       "    }\n",
       "\n",
       "    .dataframe tbody tr th {\n",
       "        vertical-align: top;\n",
       "    }\n",
       "\n",
       "    .dataframe thead th {\n",
       "        text-align: right;\n",
       "    }\n",
       "</style>\n",
       "<table border=\"1\" class=\"dataframe\">\n",
       "  <thead>\n",
       "    <tr style=\"text-align: right;\">\n",
       "      <th></th>\n",
       "      <th>0</th>\n",
       "      <th>1</th>\n",
       "    </tr>\n",
       "  </thead>\n",
       "  <tbody>\n",
       "    <tr>\n",
       "      <th>col1</th>\n",
       "      <td>1</td>\n",
       "      <td>1</td>\n",
       "    </tr>\n",
       "    <tr>\n",
       "      <th>col2</th>\n",
       "      <td>1</td>\n",
       "      <td>0</td>\n",
       "    </tr>\n",
       "    <tr>\n",
       "      <th>col3</th>\n",
       "      <td>0</td>\n",
       "      <td>1</td>\n",
       "    </tr>\n",
       "    <tr>\n",
       "      <th>col4</th>\n",
       "      <td>-1</td>\n",
       "      <td>-1</td>\n",
       "    </tr>\n",
       "    <tr>\n",
       "      <th>col5</th>\n",
       "      <td>-1</td>\n",
       "      <td>0</td>\n",
       "    </tr>\n",
       "    <tr>\n",
       "      <th>col6</th>\n",
       "      <td>-1</td>\n",
       "      <td>1</td>\n",
       "    </tr>\n",
       "  </tbody>\n",
       "</table>\n",
       "</div>"
      ],
      "text/plain": [
       "      0  1\n",
       "col1  1  1\n",
       "col2  1  0\n",
       "col3  0  1\n",
       "col4 -1 -1\n",
       "col5 -1  0\n",
       "col6 -1  1"
      ]
     },
     "execution_count": 4,
     "metadata": {},
     "output_type": "execute_result"
    }
   ],
   "source": [
    "# converting them to dataframe\n",
    "\n",
    "df1 = df.T\n",
    "df1"
   ]
  },
  {
   "cell_type": "code",
   "execution_count": 5,
   "id": "quality-times",
   "metadata": {},
   "outputs": [],
   "source": [
    "# entering the weight values \n",
    "\n",
    "wt = [1,1]"
   ]
  },
  {
   "cell_type": "code",
   "execution_count": 6,
   "id": "governing-sensitivity",
   "metadata": {},
   "outputs": [
    {
     "name": "stdout",
     "output_type": "stream",
     "text": [
      "[[1, 1], [1, 0], [0, 1], [-1, -1], [-1, 0], [-1, 1]]\n"
     ]
    }
   ],
   "source": [
    "# turning inputs to lists of arrays \n",
    "\n",
    "rows = df1.to_numpy().tolist()\n",
    "print(rows)"
   ]
  },
  {
   "cell_type": "code",
   "execution_count": 7,
   "id": "impressed-theme",
   "metadata": {},
   "outputs": [],
   "source": [
    "# defining the activation function \n",
    "\n",
    "def act(j):\n",
    "    return 1 if (np.dot(wt , j) >= 0) else 0"
   ]
  },
  {
   "cell_type": "code",
   "execution_count": 8,
   "id": "pressing-south",
   "metadata": {},
   "outputs": [],
   "source": [
    "target = [1 , 1 , 0 , 0 , 0 , 0]"
   ]
  },
  {
   "cell_type": "code",
   "execution_count": 9,
   "id": "least-christianity",
   "metadata": {},
   "outputs": [],
   "source": [
    "lr = 1"
   ]
  },
  {
   "cell_type": "code",
   "execution_count": 10,
   "id": "neither-individual",
   "metadata": {},
   "outputs": [],
   "source": [
    "epochs = 1"
   ]
  },
  {
   "cell_type": "markdown",
   "id": "3be56cf0",
   "metadata": {},
   "source": [
    "**calculating the output value using peceptron and updating the weights using delta rule also print the error value and the weight value after each row**"
   ]
  },
  {
   "cell_type": "code",
   "execution_count": 11,
   "id": "voluntary-spring",
   "metadata": {
    "scrolled": false
   },
   "outputs": [
    {
     "name": "stdout",
     "output_type": "stream",
     "text": [
      "error is  0\n",
      "output is equal to target,\n",
      "hence no weight update\n",
      "same weight  [1, 1] \n",
      "\n",
      "error is  0\n",
      "output is equal to target,\n",
      "hence no weight update\n",
      "same weight  [1, 1] \n",
      "\n",
      "error is  -1\n",
      "output is not equal to target,\n",
      "hence update weight using the delta rule\n",
      "new weight  [1, 0] \n",
      "\n",
      "error is  0\n",
      "output is equal to target,\n",
      "hence no weight update\n",
      "same weight  [1, 0] \n",
      "\n",
      "error is  0\n",
      "output is equal to target,\n",
      "hence no weight update\n",
      "same weight  [1, 0] \n",
      "\n",
      "error is  0\n",
      "output is equal to target,\n",
      "hence no weight update\n",
      "same weight  [1, 0] \n",
      "\n",
      "END OF A EPOCH \n",
      "\n"
     ]
    }
   ],
   "source": [
    "outputs = []\n",
    "errors = []\n",
    "for i in range (epochs):\n",
    "    for j , k in zip(rows , target):\n",
    "        output = act(j)\n",
    "        error = k - output\n",
    "        print(\"error is \" , error)\n",
    "        if error!= 0:\n",
    "            print(\"output is not equal to target,\\nhence update weight using the delta rule\")\n",
    "            for i , k , z in zip(wt,j ,range(len(wt))):\n",
    "                i += lr*error*k\n",
    "                wt[z] = i\n",
    "            print(\"new weight \" , wt, \"\\n\")\n",
    "        else:\n",
    "            print(\"output is equal to target,\\nhence no weight update\")\n",
    "            print(\"same weight \", wt ,\"\\n\")\n",
    "        errors.append(error)\n",
    "        outputs.append(output)\n",
    "    print(\"END OF A EPOCH \\n\")"
   ]
  },
  {
   "cell_type": "code",
   "execution_count": 12,
   "id": "occasional-identity",
   "metadata": {},
   "outputs": [
    {
     "data": {
      "text/plain": [
       "[1, 1, 1, 0, 0, 0]"
      ]
     },
     "execution_count": 12,
     "metadata": {},
     "output_type": "execute_result"
    }
   ],
   "source": [
    "outputs"
   ]
  },
  {
   "cell_type": "code",
   "execution_count": 13,
   "id": "laden-medline",
   "metadata": {},
   "outputs": [
    {
     "data": {
      "text/plain": [
       "[0, 0, -1, 0, 0, 0]"
      ]
     },
     "execution_count": 13,
     "metadata": {},
     "output_type": "execute_result"
    }
   ],
   "source": [
    "errors"
   ]
  },
  {
   "cell_type": "code",
   "execution_count": 14,
   "id": "revolutionary-liquid",
   "metadata": {},
   "outputs": [],
   "source": [
    "# defining an one input test data \n",
    "\n",
    "test_data = {'col1' : [0 , -1]}"
   ]
  },
  {
   "cell_type": "code",
   "execution_count": 15,
   "id": "brazilian-sodium",
   "metadata": {},
   "outputs": [],
   "source": [
    "test_df = pd.DataFrame(test_data)"
   ]
  },
  {
   "cell_type": "code",
   "execution_count": 16,
   "id": "indonesian-length",
   "metadata": {},
   "outputs": [
    {
     "name": "stdout",
     "output_type": "stream",
     "text": [
      "[[0, -1]]\n"
     ]
    }
   ],
   "source": [
    "rows_test = test_df.T.to_numpy().tolist()\n",
    "print(rows_test)"
   ]
  },
  {
   "cell_type": "code",
   "execution_count": 17,
   "id": "collective-basket",
   "metadata": {},
   "outputs": [],
   "source": [
    "# calculating the output value\n",
    "\n",
    "for j in rows:\n",
    "    test_output = act(j)"
   ]
  },
  {
   "cell_type": "code",
   "execution_count": 21,
   "id": "distributed-building",
   "metadata": {},
   "outputs": [
    {
     "name": "stdout",
     "output_type": "stream",
     "text": [
      "test data output value is = 0\n"
     ]
    }
   ],
   "source": [
    "print(\"test data output value is =\" ,test_output)"
   ]
  },
  {
   "cell_type": "markdown",
   "id": "31393965",
   "metadata": {},
   "source": [
    "## this is a very simple basic code implementing the delta rule for preceptron training"
   ]
  },
  {
   "cell_type": "code",
   "execution_count": null,
   "id": "59399115",
   "metadata": {},
   "outputs": [],
   "source": []
  }
 ],
 "metadata": {
  "kernelspec": {
   "display_name": "Python 3 (ipykernel)",
   "language": "python",
   "name": "python3"
  },
  "language_info": {
   "codemirror_mode": {
    "name": "ipython",
    "version": 3
   },
   "file_extension": ".py",
   "mimetype": "text/x-python",
   "name": "python",
   "nbconvert_exporter": "python",
   "pygments_lexer": "ipython3",
   "version": "3.8.12"
  }
 },
 "nbformat": 4,
 "nbformat_minor": 5
}
